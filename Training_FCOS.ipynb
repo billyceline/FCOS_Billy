{
 "cells": [
  {
   "cell_type": "code",
   "execution_count": 1,
   "metadata": {
    "scrolled": true
   },
   "outputs": [],
   "source": [
    "import tensorflow as tf\n",
    "import numpy as np\n",
    "from util import *\n",
    "import os\n",
    "import matplotlib.pyplot as plt\n",
    "from tensorflow.python.ops import control_flow_ops\n",
    "from losses import *\n",
    "from flags_and_variables import *\n",
    "from encode_boxes import *\n",
    "from fcos import *\n",
    "from tensorpack.tfutils.optimizer import AccumGradOptimizer"
   ]
  },
  {
   "cell_type": "code",
   "execution_count": 2,
   "metadata": {
    "scrolled": true
   },
   "outputs": [],
   "source": [
    "pyramid_dict = get_fpn_output(inputs,is_training=True,is_trainable=True)\n",
    "centerness_output,classes_output,boxes_output = get_network_output(feature_layer_list,pyramid_dict,feature_size)\n",
    "centerness_output = tf.concat(centerness_output,axis=1)\n",
    "classes_output = tf.concat(classes_output,axis=1)\n",
    "boxes_output = tf.concat(boxes_output,axis=1)"
   ]
  },
  {
   "cell_type": "code",
   "execution_count": 3,
   "metadata": {},
   "outputs": [],
   "source": [
    "###testing part\n",
    "centerness_output_test = tf.sigmoid(centerness_output)\n",
    "classes_output_test = tf.sigmoid(classes_output)\n",
    "boxes_output_test = boxes_output"
   ]
  },
  {
   "cell_type": "code",
   "execution_count": 4,
   "metadata": {},
   "outputs": [],
   "source": [
    "#focal loss\n",
    "focal_losses = focal_loss(classes,classes_output_test,state)\n",
    "IOU_losses = iou_loss(boxes, boxes_output_test,state,centerness)\n",
    "centerness_losses = centerness_loss(centerness, centerness_output_test,state)\n",
    "regular_loss = tf.losses.get_regularization_loss()\n",
    "total_losses = focal_losses+IOU_losses+centerness_losses+regular_loss"
   ]
  },
  {
   "cell_type": "code",
   "execution_count": 5,
   "metadata": {},
   "outputs": [
    {
     "name": "stdout",
     "output_type": "stream",
     "text": [
      "\u001b[32m[1213 14:36:47 @gradproc.py:79]\u001b[0m \u001b[5m\u001b[31mWRN\u001b[0m No gradient w.r.t 3 trainable variables: resnet_v2_50/postnorm/gamma, resnet_v2_50/postnorm/beta, resnet_v2_50/logits/biases\n"
     ]
    }
   ],
   "source": [
    "tf.summary.scalar('scala/total_losses',total_losses)\n",
    "tf.summary.scalar('scala/focal_losses',focal_losses)\n",
    "tf.summary.scalar('scala/IOU_losses',IOU_losses)\n",
    "tf.summary.scalar('scala/centerness_losses',centerness_losses)\n",
    "tf.summary.scalar('scala/reg_loss',regular_loss)\n",
    "ckpt = tf.train.latest_checkpoint(FLAGS.checkpoint_dir)\n",
    "if ckpt:\n",
    "    start_step = int(ckpt.split('-')[-1])\n",
    "else:\n",
    "    start_step = 0  \n",
    "    \n",
    "with tf.variable_scope(\"optimizer\") as scope:\n",
    "    global_step = tf.get_variable(\"step\", [], initializer=tf.constant_initializer(start_step*5), trainable=False)\n",
    "    rate = tf.train.exponential_decay(FLAGS.learning_rate, global_step, decay_steps=20000, decay_rate=0.1, staircase=True)\n",
    "    update_opts = tf.get_collection(tf.GraphKeys.UPDATE_OPS)\n",
    "    with tf.control_dependencies([tf.group(update_opts)]):\n",
    "        adam_opt = tf.train.AdamOptimizer(rate)\n",
    "        train_opt = AccumGradOptimizer(adam_opt, niter=5).minimize(total_losses,global_step=global_step)\n",
    "tf.summary.scalar('scala/learning_rate',rate)\n",
    "merged_summary_op = tf.summary.merge_all()"
   ]
  },
  {
   "cell_type": "code",
   "execution_count": 6,
   "metadata": {},
   "outputs": [],
   "source": [
    "annotation = get_path_and_annotation('/media/xinje/New Volume/VOC07&12/VOC2007/train/train_OCR.txt')\n",
    "train_iter = read_data(annotation,FLAGS.batch_size,input_shape=(800,1024),is_random=False,is_crop=False)"
   ]
  },
  {
   "cell_type": "code",
   "execution_count": null,
   "metadata": {
    "scrolled": true
   },
   "outputs": [
    {
     "name": "stdout",
     "output_type": "stream",
     "text": [
      "INFO:tensorflow:Restoring parameters from /media/xinje/New Volume/fcos/resnet_v2_50_giou/FCOS--400\n",
      "Restore from the checkpoint /media/xinje/New Volume/fcos/resnet_v2_50_giou/FCOS--400\n",
      "Batch: 400   Current total loss: 7.656803 focal_loss: 2.30557 IOU_loss: 1.8226341 centerness_loss: 1.1968602\n",
      "Model saved !!!\n",
      "Batch: 401   Current total loss: 6.760972 focal_loss: 1.7715057 IOU_loss: 1.652236 centerness_loss: 1.0054942\n",
      "Batch: 402   Current total loss: 6.0714207 focal_loss: 1.4931298 IOU_loss: 1.3684777 centerness_loss: 0.8780791\n",
      "Batch: 403   Current total loss: 7.636235 focal_loss: 2.1804707 IOU_loss: 1.8795115 centerness_loss: 1.244521\n",
      "Batch: 404   Current total loss: 5.7668667 focal_loss: 1.2194827 IOU_loss: 1.3945583 centerness_loss: 0.8210961\n",
      "Batch: 405   Current total loss: 6.5351777 focal_loss: 1.7058067 IOU_loss: 1.5888498 centerness_loss: 0.90879476\n",
      "Batch: 406   Current total loss: 5.8832483 focal_loss: 1.4490606 IOU_loss: 1.3408383 centerness_loss: 0.76162547\n",
      "Batch: 407   Current total loss: 5.9953275 focal_loss: 1.3951696 IOU_loss: 1.404823 centerness_loss: 0.8636135\n",
      "Batch: 408   Current total loss: 5.5939717 focal_loss: 1.3940456 IOU_loss: 1.127538 centerness_loss: 0.74066913\n",
      "Batch: 409   Current total loss: 5.981887 focal_loss: 1.3182766 IOU_loss: 1.4709346 centerness_loss: 0.86095864\n",
      "Batch: 410   Current total loss: 7.722125 focal_loss: 2.3538382 IOU_loss: 1.7877938 centerness_loss: 1.2487781\n",
      "Batch: 411   Current total loss: 5.4785028 focal_loss: 1.2217577 IOU_loss: 1.1842452 centerness_loss: 0.74078774\n",
      "Batch: 412   Current total loss: 6.2050366 focal_loss: 1.5374098 IOU_loss: 1.4028615 centerness_loss: 0.93305576\n",
      "Batch: 413   Current total loss: 7.905105 focal_loss: 2.3799944 IOU_loss: 1.8838234 centerness_loss: 1.3095803\n",
      "Batch: 414   Current total loss: 5.9907117 focal_loss: 1.3515381 IOU_loss: 1.4323367 centerness_loss: 0.87513286\n",
      "Batch: 415   Current total loss: 6.7641473 focal_loss: 1.8311288 IOU_loss: 1.6470426 centerness_loss: 0.9542736\n",
      "Batch: 416   Current total loss: 7.2219687 focal_loss: 2.0616274 IOU_loss: 1.7765248 centerness_loss: 1.0521168\n",
      "Batch: 417   Current total loss: 5.739459 focal_loss: 1.3035438 IOU_loss: 1.3166825 centerness_loss: 0.78753495\n",
      "Batch: 418   Current total loss: 5.7863283 focal_loss: 1.2293165 IOU_loss: 1.371696 centerness_loss: 0.8536213\n",
      "Batch: 419   Current total loss: 6.2609825 focal_loss: 1.5546461 IOU_loss: 1.4412832 centerness_loss: 0.93336046\n",
      "Batch: 420   Current total loss: 5.8185234 focal_loss: 1.4164335 IOU_loss: 1.2132312 centerness_loss: 0.85716885\n",
      "Batch: 421   Current total loss: 5.979417 focal_loss: 1.3984839 IOU_loss: 1.3676394 centerness_loss: 0.8816056\n",
      "Batch: 422   Current total loss: 6.6508827 focal_loss: 1.7697018 IOU_loss: 1.5022255 centerness_loss: 1.0472704\n",
      "Batch: 423   Current total loss: 6.233816 focal_loss: 1.4870502 IOU_loss: 1.4856144 centerness_loss: 0.92946887\n",
      "Batch: 424   Current total loss: 6.9078026 focal_loss: 1.9042194 IOU_loss: 1.5886363 centerness_loss: 1.083267\n",
      "Batch: 425   Current total loss: 6.18373 focal_loss: 1.5114712 IOU_loss: 1.3930756 centerness_loss: 0.9475057\n",
      "Batch: 426   Current total loss: 6.429899 focal_loss: 1.5806084 IOU_loss: 1.5503016 centerness_loss: 0.96731395\n",
      "Batch: 427   Current total loss: 6.1470838 focal_loss: 1.5268036 IOU_loss: 1.4647212 centerness_loss: 0.8238858\n",
      "Batch: 428   Current total loss: 5.5516043 focal_loss: 1.157964 IOU_loss: 1.3276975 centerness_loss: 0.73427194\n",
      "Batch: 429   Current total loss: 6.0344906 focal_loss: 1.4708146 IOU_loss: 1.3470958 centerness_loss: 0.8849121\n",
      "Batch: 430   Current total loss: 5.559105 focal_loss: 1.1724672 IOU_loss: 1.2473848 centerness_loss: 0.8075875\n",
      "Batch: 431   Current total loss: 6.1963806 focal_loss: 1.5381398 IOU_loss: 1.4874274 centerness_loss: 0.8391508\n",
      "Batch: 432   Current total loss: 6.75704 focal_loss: 1.8677646 IOU_loss: 1.5503416 centerness_loss: 1.0072737\n",
      "Batch: 433   Current total loss: 6.3479843 focal_loss: 1.6339289 IOU_loss: 1.4675683 centerness_loss: 0.91482896\n",
      "Batch: 434   Current total loss: 7.3521357 focal_loss: 2.2118325 IOU_loss: 1.6937351 centerness_loss: 1.1149123\n",
      "Batch: 435   Current total loss: 6.7711773 focal_loss: 1.8619692 IOU_loss: 1.6078347 centerness_loss: 0.96972024\n",
      "Batch: 436   Current total loss: 5.9023933 focal_loss: 1.4491082 IOU_loss: 1.2799382 centerness_loss: 0.84169626\n",
      "Batch: 437   Current total loss: 6.1862736 focal_loss: 1.5875162 IOU_loss: 1.4188722 centerness_loss: 0.8482369\n",
      "Batch: 438   Current total loss: 6.605291 focal_loss: 1.702706 IOU_loss: 1.518193 centerness_loss: 1.0527452\n",
      "Batch: 439   Current total loss: 5.6159987 focal_loss: 1.320441 IOU_loss: 1.1999426 centerness_loss: 0.7639715\n",
      "Batch: 440   Current total loss: 8.035828 focal_loss: 2.555389 IOU_loss: 1.7996026 centerness_loss: 1.349195\n",
      "Batch: 441   Current total loss: 6.5933676 focal_loss: 1.7570827 IOU_loss: 1.4757805 centerness_loss: 1.0288656\n",
      "Batch: 442   Current total loss: 5.6955867 focal_loss: 1.3796723 IOU_loss: 1.2255473 centerness_loss: 0.75873077\n",
      "Batch: 443   Current total loss: 6.034296 focal_loss: 1.5273025 IOU_loss: 1.2804699 centerness_loss: 0.8948893\n",
      "Batch: 444   Current total loss: 6.165381 focal_loss: 1.4903264 IOU_loss: 1.4477828 centerness_loss: 0.8956402\n",
      "Batch: 445   Current total loss: 6.120569 focal_loss: 1.4078021 IOU_loss: 1.4477515 centerness_loss: 0.9333868\n",
      "Batch: 446   Current total loss: 6.119789 focal_loss: 1.4830719 IOU_loss: 1.4384565 centerness_loss: 0.86663365\n",
      "Batch: 447   Current total loss: 6.156038 focal_loss: 1.6752976 IOU_loss: 1.2502393 centerness_loss: 0.8988766\n",
      "Batch: 448   Current total loss: 6.10174 focal_loss: 1.5046091 IOU_loss: 1.3800784 centerness_loss: 0.88543105\n",
      "Batch: 449   Current total loss: 5.72809 focal_loss: 1.2287283 IOU_loss: 1.3176339 centerness_loss: 0.8501081\n",
      "Batch: 450   Current total loss: 5.367882 focal_loss: 1.0839341 IOU_loss: 1.2086086 centerness_loss: 0.74372226\n",
      "Batch: 451   Current total loss: 5.420417 focal_loss: 1.1812965 IOU_loss: 1.1908878 centerness_loss: 0.7166185\n",
      "Batch: 452   Current total loss: 7.984938 focal_loss: 2.4866579 IOU_loss: 1.8069731 centerness_loss: 1.3596951\n",
      "Batch: 453   Current total loss: 6.826546 focal_loss: 1.9770721 IOU_loss: 1.5050199 centerness_loss: 1.0128447\n",
      "Batch: 454   Current total loss: 5.5770955 focal_loss: 1.1879282 IOU_loss: 1.3222556 centerness_loss: 0.7353043\n",
      "Batch: 455   Current total loss: 7.80147 focal_loss: 2.3150883 IOU_loss: 1.8929232 centerness_loss: 1.2618531\n",
      "Batch: 456   Current total loss: 6.204348 focal_loss: 1.4762653 IOU_loss: 1.4693193 centerness_loss: 0.92716086\n",
      "Batch: 457   Current total loss: 6.176132 focal_loss: 1.6185169 IOU_loss: 1.3083873 centerness_loss: 0.9176279\n",
      "Batch: 458   Current total loss: 5.819169 focal_loss: 1.3726577 IOU_loss: 1.2834867 centerness_loss: 0.8314274\n",
      "Batch: 459   Current total loss: 5.6870804 focal_loss: 1.1246114 IOU_loss: 1.3228959 centerness_loss: 0.907978\n",
      "Batch: 460   Current total loss: 7.2382507 focal_loss: 2.212184 IOU_loss: 1.5911725 centerness_loss: 1.1033015\n",
      "Batch: 461   Current total loss: 6.582515 focal_loss: 1.7697943 IOU_loss: 1.4354812 centerness_loss: 1.0456487\n",
      "Batch: 462   Current total loss: 6.6152034 focal_loss: 1.7819718 IOU_loss: 1.508104 centerness_loss: 0.9935398\n",
      "Batch: 463   Current total loss: 5.95065 focal_loss: 1.4472679 IOU_loss: 1.3675823 centerness_loss: 0.80421406\n",
      "Batch: 464   Current total loss: 6.055672 focal_loss: 1.4102681 IOU_loss: 1.4280806 centerness_loss: 0.8857403\n",
      "Batch: 465   Current total loss: 6.635047 focal_loss: 1.8168644 IOU_loss: 1.5337187 centerness_loss: 0.95288396\n",
      "Batch: 466   Current total loss: 7.313032 focal_loss: 2.2153983 IOU_loss: 1.5785455 centerness_loss: 1.18751\n",
      "Batch: 467   Current total loss: 6.7300987 focal_loss: 1.9176477 IOU_loss: 1.5011367 centerness_loss: 0.9797388\n",
      "Batch: 468   Current total loss: 5.6087275 focal_loss: 1.2694596 IOU_loss: 1.2061993 centerness_loss: 0.8014953\n",
      "Batch: 469   Current total loss: 5.721116 focal_loss: 1.3508322 IOU_loss: 1.2475868 centerness_loss: 0.7911261\n",
      "Batch: 470   Current total loss: 6.071639 focal_loss: 1.5396515 IOU_loss: 1.2284014 centerness_loss: 0.9720173\n",
      "Batch: 471   Current total loss: 6.0014577 focal_loss: 1.4414684 IOU_loss: 1.3775855 centerness_loss: 0.85083807\n"
     ]
    },
    {
     "name": "stdout",
     "output_type": "stream",
     "text": [
      "Batch: 472   Current total loss: 6.276289 focal_loss: 1.5935102 IOU_loss: 1.4097568 centerness_loss: 0.941458\n",
      "Batch: 473   Current total loss: 5.497185 focal_loss: 1.1608617 IOU_loss: 1.2251142 centerness_loss: 0.77964836\n",
      "Batch: 474   Current total loss: 5.896702 focal_loss: 1.3049405 IOU_loss: 1.358567 centerness_loss: 0.9016355\n",
      "Batch: 475   Current total loss: 6.186413 focal_loss: 1.519073 IOU_loss: 1.4175323 centerness_loss: 0.9182513\n",
      "Batch: 476   Current total loss: 5.738877 focal_loss: 1.4285487 IOU_loss: 1.2029965 centerness_loss: 0.775778\n",
      "Batch: 477   Current total loss: 6.823476 focal_loss: 1.8895437 IOU_loss: 1.558344 centerness_loss: 1.0440372\n",
      "Batch: 478   Current total loss: 6.7888722 focal_loss: 2.0043654 IOU_loss: 1.424249 centerness_loss: 1.0287086\n",
      "Batch: 479   Current total loss: 5.835058 focal_loss: 1.3250134 IOU_loss: 1.3481646 centerness_loss: 0.83033365\n",
      "Batch: 480   Current total loss: 6.767849 focal_loss: 1.8188223 IOU_loss: 1.5824051 centerness_loss: 1.035077\n",
      "Batch: 481   Current total loss: 6.068277 focal_loss: 1.5388358 IOU_loss: 1.3068974 centerness_loss: 0.89100206\n",
      "Batch: 482   Current total loss: 6.236031 focal_loss: 1.675264 IOU_loss: 1.3383868 centerness_loss: 0.8908411\n",
      "Batch: 483   Current total loss: 6.3392286 focal_loss: 1.7164563 IOU_loss: 1.43029 centerness_loss: 0.86094517\n",
      "Batch: 484   Current total loss: 7.740203 focal_loss: 2.432669 IOU_loss: 1.8790612 centerness_loss: 1.0969379\n",
      "Batch: 485   Current total loss: 5.3282437 focal_loss: 1.1281253 IOU_loss: 1.138035 centerness_loss: 0.73055124\n",
      "Batch: 486   Current total loss: 6.865487 focal_loss: 1.9576052 IOU_loss: 1.5715876 centerness_loss: 1.0047648\n",
      "Batch: 487   Current total loss: 5.572417 focal_loss: 1.1372292 IOU_loss: 1.3043826 centerness_loss: 0.79927754\n",
      "Batch: 488   Current total loss: 6.937394 focal_loss: 2.0051394 IOU_loss: 1.5543154 centerness_loss: 1.046415\n",
      "Batch: 489   Current total loss: 7.304509 focal_loss: 1.9901518 IOU_loss: 1.6769236 centerness_loss: 1.3059114\n",
      "Batch: 490   Current total loss: 7.8157005 focal_loss: 2.5047624 IOU_loss: 1.6709018 centerness_loss: 1.3085166\n",
      "Batch: 491   Current total loss: 6.467885 focal_loss: 1.7741247 IOU_loss: 1.3647076 centerness_loss: 0.9975352\n",
      "Batch: 492   Current total loss: 6.952168 focal_loss: 1.9141091 IOU_loss: 1.5623629 centerness_loss: 1.1441814\n",
      "Batch: 493   Current total loss: 6.1018424 focal_loss: 1.6241901 IOU_loss: 1.2615464 centerness_loss: 0.8845933\n",
      "Batch: 494   Current total loss: 6.551058 focal_loss: 1.80925 IOU_loss: 1.5405856 centerness_loss: 0.8697116\n",
      "Batch: 495   Current total loss: 6.810425 focal_loss: 1.867509 IOU_loss: 1.4943185 centerness_loss: 1.1170889\n",
      "Batch: 496   Current total loss: 5.8903866 focal_loss: 1.383673 IOU_loss: 1.3298012 centerness_loss: 0.8454066\n",
      "Batch: 497   Current total loss: 7.701232 focal_loss: 2.314218 IOU_loss: 1.792952 centerness_loss: 1.2625586\n",
      "Batch: 498   Current total loss: 5.971673 focal_loss: 1.4109902 IOU_loss: 1.2969524 centerness_loss: 0.93222934\n",
      "Batch: 499   Current total loss: 5.967366 focal_loss: 1.4793442 IOU_loss: 1.3202409 centerness_loss: 0.8362824\n",
      "Batch: 500   Current total loss: 5.6082454 focal_loss: 1.2566726 IOU_loss: 1.2182696 centerness_loss: 0.8018072\n",
      "Model saved !!!\n",
      "Batch: 501   Current total loss: 5.851424 focal_loss: 1.4066325 IOU_loss: 1.2831283 centerness_loss: 0.8301697\n",
      "Batch: 502   Current total loss: 5.91486 focal_loss: 1.487798 IOU_loss: 1.2240528 centerness_loss: 0.8715182\n",
      "Batch: 503   Current total loss: 5.7389083 focal_loss: 1.3215533 IOU_loss: 1.2829536 centerness_loss: 0.80291265\n",
      "Batch: 504   Current total loss: 5.77633 focal_loss: 1.299437 IOU_loss: 1.31744 centerness_loss: 0.8279661\n",
      "Batch: 505   Current total loss: 5.7054324 focal_loss: 1.274286 IOU_loss: 1.2722174 centerness_loss: 0.8274451\n",
      "Batch: 506   Current total loss: 6.9915433 focal_loss: 1.9486334 IOU_loss: 1.6313223 centerness_loss: 1.0801064\n",
      "Batch: 507   Current total loss: 6.121662 focal_loss: 1.5197262 IOU_loss: 1.400585 centerness_loss: 0.86987114\n",
      "Batch: 508   Current total loss: 6.8707304 focal_loss: 1.9247743 IOU_loss: 1.5878661 centerness_loss: 1.0266131\n",
      "Batch: 509   Current total loss: 7.5461245 focal_loss: 2.2248769 IOU_loss: 1.822976 centerness_loss: 1.1667969\n",
      "Batch: 510   Current total loss: 6.1736374 focal_loss: 1.6295236 IOU_loss: 1.2728076 centerness_loss: 0.9398339\n",
      "Batch: 511   Current total loss: 5.6742477 focal_loss: 1.3682142 IOU_loss: 1.2119361 centerness_loss: 0.7626278\n",
      "Batch: 512   Current total loss: 6.5964003 focal_loss: 1.7200638 IOU_loss: 1.489711 centerness_loss: 1.0551574\n",
      "Batch: 513   Current total loss: 5.231532 focal_loss: 1.2615666 IOU_loss: 0.95869416 centerness_loss: 0.6798061\n",
      "Batch: 514   Current total loss: 5.963602 focal_loss: 1.4795408 IOU_loss: 1.2839435 centerness_loss: 0.8686548\n",
      "Batch: 515   Current total loss: 7.7560835 focal_loss: 2.5753322 IOU_loss: 1.6106678 centerness_loss: 1.2386239\n",
      "Batch: 516   Current total loss: 5.333418 focal_loss: 1.260321 IOU_loss: 1.022745 centerness_loss: 0.7188941\n",
      "Batch: 517   Current total loss: 5.866062 focal_loss: 1.424556 IOU_loss: 1.2662758 centerness_loss: 0.8437752\n",
      "Batch: 518   Current total loss: 5.986636 focal_loss: 1.5022187 IOU_loss: 1.2969942 centerness_loss: 0.8559693\n",
      "Batch: 519   Current total loss: 7.3738446 focal_loss: 2.1384115 IOU_loss: 1.5867614 centerness_loss: 1.3172209\n",
      "Batch: 520   Current total loss: 6.09803 focal_loss: 1.4992856 IOU_loss: 1.3106307 centerness_loss: 0.9566652\n",
      "Batch: 521   Current total loss: 5.924388 focal_loss: 1.4477566 IOU_loss: 1.2610515 centerness_loss: 0.8841339\n",
      "Batch: 522   Current total loss: 5.1144166 focal_loss: 1.1093082 IOU_loss: 0.9909554 centerness_loss: 0.6827097\n",
      "Batch: 523   Current total loss: 5.9698534 focal_loss: 1.4788144 IOU_loss: 1.2117118 centerness_loss: 0.94788635\n",
      "Batch: 524   Current total loss: 6.7722864 focal_loss: 1.8445235 IOU_loss: 1.5778003 centerness_loss: 1.0185242\n",
      "Batch: 525   Current total loss: 6.280884 focal_loss: 1.6887124 IOU_loss: 1.3093275 centerness_loss: 0.9514077\n",
      "Batch: 526   Current total loss: 6.0031166 focal_loss: 1.525338 IOU_loss: 1.2458233 centerness_loss: 0.9005215\n",
      "Batch: 527   Current total loss: 6.577326 focal_loss: 1.7008009 IOU_loss: 1.4906118 centerness_loss: 1.0544815\n",
      "Batch: 528   Current total loss: 6.1306305 focal_loss: 1.6116304 IOU_loss: 1.3329121 centerness_loss: 0.8546591\n",
      "Batch: 529   Current total loss: 5.8089695 focal_loss: 1.2718258 IOU_loss: 1.3590776 centerness_loss: 0.8466391\n",
      "Batch: 530   Current total loss: 6.4865093 focal_loss: 1.6877695 IOU_loss: 1.4477149 centerness_loss: 1.0196007\n",
      "Batch: 531   Current total loss: 6.1324434 focal_loss: 1.5589517 IOU_loss: 1.3380729 centerness_loss: 0.9039967\n",
      "Batch: 532   Current total loss: 6.001995 focal_loss: 1.5995463 IOU_loss: 1.2515308 centerness_loss: 0.81949854\n",
      "Batch: 533   Current total loss: 6.183137 focal_loss: 1.4839284 IOU_loss: 1.3982265 centerness_loss: 0.96956444\n",
      "Batch: 534   Current total loss: 5.937043 focal_loss: 1.33554 IOU_loss: 1.4160347 centerness_loss: 0.8540535\n",
      "Batch: 535   Current total loss: 6.2094994 focal_loss: 1.4951673 IOU_loss: 1.4519254 centerness_loss: 0.93099463\n",
      "Batch: 536   Current total loss: 5.8791094 focal_loss: 1.4683428 IOU_loss: 1.2615038 centerness_loss: 0.8178528\n",
      "Batch: 537   Current total loss: 5.1059046 focal_loss: 0.9357448 IOU_loss: 1.1055472 centerness_loss: 0.7332049\n",
      "Batch: 538   Current total loss: 5.7874117 focal_loss: 1.4472036 IOU_loss: 1.1602303 centerness_loss: 0.84857273\n",
      "Batch: 539   Current total loss: 5.8962874 focal_loss: 1.6232395 IOU_loss: 1.1243639 centerness_loss: 0.81728125\n",
      "Batch: 540   Current total loss: 6.1768913 focal_loss: 1.69552 IOU_loss: 1.177059 centerness_loss: 0.97291195\n",
      "Batch: 541   Current total loss: 5.1023054 focal_loss: 0.93898976 IOU_loss: 1.0902907 centerness_loss: 0.74162775\n",
      "Batch: 542   Current total loss: 6.14372 focal_loss: 1.573708 IOU_loss: 1.2313806 centerness_loss: 1.007236\n",
      "Batch: 543   Current total loss: 6.1231627 focal_loss: 1.6519072 IOU_loss: 1.2734114 centerness_loss: 0.8664508\n",
      "Batch: 544   Current total loss: 5.7867994 focal_loss: 1.4095651 IOU_loss: 1.2051746 centerness_loss: 0.8406694\n",
      "Batch: 545   Current total loss: 5.286042 focal_loss: 1.135476 IOU_loss: 1.1117923 centerness_loss: 0.7073858\n"
     ]
    },
    {
     "name": "stdout",
     "output_type": "stream",
     "text": [
      "Batch: 546   Current total loss: 5.1949973 focal_loss: 1.0658851 IOU_loss: 1.0375069 centerness_loss: 0.7602193\n",
      "Batch: 547   Current total loss: 6.0999155 focal_loss: 1.6648856 IOU_loss: 1.2614135 centerness_loss: 0.842233\n",
      "Batch: 548   Current total loss: 6.2655263 focal_loss: 1.6285467 IOU_loss: 1.4067622 centerness_loss: 0.89883643\n",
      "Batch: 549   Current total loss: 5.3642883 focal_loss: 1.1090235 IOU_loss: 1.1526448 centerness_loss: 0.7712413\n",
      "Batch: 550   Current total loss: 5.936485 focal_loss: 1.4168108 IOU_loss: 1.2983999 centerness_loss: 0.8898977\n",
      "Batch: 551   Current total loss: 5.062745 focal_loss: 1.0577987 IOU_loss: 0.9746098 centerness_loss: 0.69896215\n",
      "Batch: 552   Current total loss: 5.4616423 focal_loss: 1.1631356 IOU_loss: 1.140641 centerness_loss: 0.8264936\n",
      "Batch: 553   Current total loss: 5.847885 focal_loss: 1.420889 IOU_loss: 1.3493794 centerness_loss: 0.7462474\n",
      "Batch: 554   Current total loss: 7.695744 focal_loss: 2.44085 IOU_loss: 1.6858194 centerness_loss: 1.2377076\n",
      "Batch: 555   Current total loss: 6.2606354 focal_loss: 1.6439888 IOU_loss: 1.3083037 centerness_loss: 0.9769782\n",
      "Batch: 556   Current total loss: 6.054322 focal_loss: 1.5178674 IOU_loss: 1.2578807 centerness_loss: 0.94721115\n",
      "Batch: 557   Current total loss: 4.816823 focal_loss: 0.8302397 IOU_loss: 0.9639406 centerness_loss: 0.6912822\n",
      "Batch: 558   Current total loss: 7.0023108 focal_loss: 1.955682 IOU_loss: 1.4200388 centerness_loss: 1.295232\n",
      "Batch: 559   Current total loss: 6.2567196 focal_loss: 1.7162608 IOU_loss: 1.2290496 centerness_loss: 0.9800542\n",
      "Batch: 560   Current total loss: 6.0140395 focal_loss: 1.4939504 IOU_loss: 1.3114738 centerness_loss: 0.87726235\n",
      "Batch: 561   Current total loss: 6.4125175 focal_loss: 1.6271459 IOU_loss: 1.4298588 centerness_loss: 1.0241622\n",
      "Batch: 562   Current total loss: 5.554608 focal_loss: 1.3084121 IOU_loss: 1.0648383 centerness_loss: 0.85000896\n",
      "Batch: 563   Current total loss: 6.176213 focal_loss: 1.6542635 IOU_loss: 1.276909 centerness_loss: 0.9136946\n",
      "Batch: 564   Current total loss: 6.197073 focal_loss: 1.5238397 IOU_loss: 1.3637209 centerness_loss: 0.97816944\n",
      "Batch: 565   Current total loss: 5.402912 focal_loss: 1.1958591 IOU_loss: 1.1366205 centerness_loss: 0.73909163\n",
      "Batch: 566   Current total loss: 6.23184 focal_loss: 1.670285 IOU_loss: 1.3480881 centerness_loss: 0.8821283\n",
      "Batch: 567   Current total loss: 7.1403027 focal_loss: 2.1358912 IOU_loss: 1.4529392 centerness_loss: 1.2201359\n",
      "Batch: 568   Current total loss: 6.144003 focal_loss: 1.5503432 IOU_loss: 1.3342594 centerness_loss: 0.92806596\n",
      "Batch: 569   Current total loss: 5.5573206 focal_loss: 1.2963828 IOU_loss: 1.170451 centerness_loss: 0.7591551\n",
      "Batch: 570   Current total loss: 7.1240287 focal_loss: 2.0365043 IOU_loss: 1.5710082 centerness_loss: 1.1851869\n",
      "Batch: 571   Current total loss: 5.105454 focal_loss: 0.980437 IOU_loss: 1.0557059 centerness_loss: 0.73798454\n",
      "Batch: 572   Current total loss: 4.959445 focal_loss: 0.86665976 IOU_loss: 1.0263387 centerness_loss: 0.7351222\n",
      "Batch: 573   Current total loss: 5.1020975 focal_loss: 1.0263939 IOU_loss: 1.0139338 centerness_loss: 0.73044837\n",
      "Batch: 574   Current total loss: 5.6903176 focal_loss: 1.3104794 IOU_loss: 1.2139392 centerness_loss: 0.8345794\n",
      "Batch: 575   Current total loss: 5.1528463 focal_loss: 1.1127291 IOU_loss: 1.0092493 centerness_loss: 0.69955045\n",
      "Batch: 576   Current total loss: 5.5865817 focal_loss: 1.2004007 IOU_loss: 1.1797684 centerness_loss: 0.8750975\n",
      "Batch: 577   Current total loss: 6.8636694 focal_loss: 1.9323028 IOU_loss: 1.4616082 centerness_loss: 1.1384463\n",
      "Batch: 578   Current total loss: 5.1979084 focal_loss: 1.0805168 IOU_loss: 1.0696788 centerness_loss: 0.71640277\n",
      "Batch: 579   Current total loss: 5.508364 focal_loss: 1.1700038 IOU_loss: 1.157421 centerness_loss: 0.8496318\n",
      "Batch: 580   Current total loss: 7.297741 focal_loss: 2.220521 IOU_loss: 1.5496776 centerness_loss: 1.1962371\n",
      "Batch: 581   Current total loss: 5.451417 focal_loss: 1.11909 IOU_loss: 1.2273233 centerness_loss: 0.77370083\n",
      "Batch: 582   Current total loss: 6.632777 focal_loss: 1.8416331 IOU_loss: 1.4803203 centerness_loss: 0.97952366\n",
      "Batch: 583   Current total loss: 6.66278 focal_loss: 1.9033775 IOU_loss: 1.4315557 centerness_loss: 0.9965487\n",
      "Batch: 584   Current total loss: 5.316224 focal_loss: 1.0853626 IOU_loss: 1.160676 centerness_loss: 0.73888975\n",
      "Batch: 585   Current total loss: 5.5218163 focal_loss: 1.2036438 IOU_loss: 1.1697173 centerness_loss: 0.817162\n",
      "Batch: 586   Current total loss: 5.678191 focal_loss: 1.3243494 IOU_loss: 1.1823491 centerness_loss: 0.84020215\n",
      "Batch: 587   Current total loss: 5.606656 focal_loss: 1.4119183 IOU_loss: 1.0432873 centerness_loss: 0.82016236\n",
      "Batch: 588   Current total loss: 5.787217 focal_loss: 1.340153 IOU_loss: 1.2262789 centerness_loss: 0.8894992\n",
      "Batch: 589   Current total loss: 6.372161 focal_loss: 1.8142456 IOU_loss: 1.2393438 centerness_loss: 0.98728734\n",
      "Batch: 590   Current total loss: 5.936757 focal_loss: 1.4379344 IOU_loss: 1.2894386 centerness_loss: 0.8781024\n",
      "Batch: 591   Current total loss: 6.4651327 focal_loss: 1.7506692 IOU_loss: 1.3565872 centerness_loss: 1.0265975\n",
      "Batch: 592   Current total loss: 4.919784 focal_loss: 0.9564233 IOU_loss: 0.9314791 centerness_loss: 0.7006054\n",
      "Batch: 593   Current total loss: 5.784335 focal_loss: 1.3661245 IOU_loss: 1.2697603 centerness_loss: 0.81717646\n",
      "Batch: 594   Current total loss: 6.0831747 focal_loss: 1.5755532 IOU_loss: 1.2466284 centerness_loss: 0.92972124\n",
      "Batch: 595   Current total loss: 5.040307 focal_loss: 1.0237943 IOU_loss: 0.9792329 centerness_loss: 0.7060107\n",
      "Batch: 596   Current total loss: 5.130994 focal_loss: 1.0148196 IOU_loss: 1.0204936 centerness_loss: 0.7644136\n",
      "Batch: 597   Current total loss: 5.403176 focal_loss: 1.1940029 IOU_loss: 1.0890288 centerness_loss: 0.7888796\n",
      "Batch: 598   Current total loss: 6.0786858 focal_loss: 1.5709404 IOU_loss: 1.307099 centerness_loss: 0.86938405\n",
      "Batch: 599   Current total loss: 6.481268 focal_loss: 1.8039843 IOU_loss: 1.3020774 centerness_loss: 1.0439466\n",
      "Batch: 600   Current total loss: 5.9528866 focal_loss: 1.517551 IOU_loss: 1.225521 centerness_loss: 0.8785573\n",
      "Model saved !!!\n",
      "Batch: 601   Current total loss: 6.623914 focal_loss: 1.9239267 IOU_loss: 1.3545922 centerness_loss: 1.0141398\n",
      "Batch: 602   Current total loss: 6.6759977 focal_loss: 1.8958663 IOU_loss: 1.4294112 centerness_loss: 1.0194684\n",
      "Batch: 603   Current total loss: 5.687131 focal_loss: 1.4072099 IOU_loss: 1.1550096 centerness_loss: 0.7936611\n",
      "Batch: 604   Current total loss: 5.505933 focal_loss: 1.2027085 IOU_loss: 1.1979458 centerness_loss: 0.7740307\n",
      "Batch: 605   Current total loss: 5.6118355 focal_loss: 1.236848 IOU_loss: 1.2035353 centerness_loss: 0.84020674\n",
      "Batch: 606   Current total loss: 5.291526 focal_loss: 1.1373119 IOU_loss: 1.0526905 centerness_loss: 0.77028054\n",
      "Batch: 607   Current total loss: 7.446602 focal_loss: 2.3475845 IOU_loss: 1.5242206 centerness_loss: 1.243556\n",
      "Batch: 608   Current total loss: 5.758411 focal_loss: 1.2864383 IOU_loss: 1.2543693 centerness_loss: 0.88636523\n",
      "Batch: 609   Current total loss: 5.5598106 focal_loss: 1.3405865 IOU_loss: 1.0653559 centerness_loss: 0.8226329\n",
      "Batch: 610   Current total loss: 5.5800447 focal_loss: 1.3801261 IOU_loss: 1.080572 centerness_loss: 0.7881136\n",
      "Batch: 611   Current total loss: 5.5890913 focal_loss: 1.233639 IOU_loss: 1.1907253 centerness_loss: 0.8334957\n",
      "Batch: 612   Current total loss: 5.7516956 focal_loss: 1.2749771 IOU_loss: 1.2707199 centerness_loss: 0.8747698\n",
      "Batch: 613   Current total loss: 5.823391 focal_loss: 1.379095 IOU_loss: 1.2506579 centerness_loss: 0.86241156\n",
      "Batch: 614   Current total loss: 5.744301 focal_loss: 1.4021838 IOU_loss: 1.1547846 centerness_loss: 0.8561089\n",
      "Batch: 615   Current total loss: 5.337769 focal_loss: 1.1516865 IOU_loss: 1.0323066 centerness_loss: 0.82255495\n",
      "Batch: 616   Current total loss: 5.78479 focal_loss: 1.2864387 IOU_loss: 1.2817131 centerness_loss: 0.8854195\n",
      "Batch: 617   Current total loss: 6.707258 focal_loss: 2.1250765 IOU_loss: 1.2428621 centerness_loss: 1.0081027\n",
      "Batch: 618   Current total loss: 5.6900587 focal_loss: 1.405728 IOU_loss: 1.1651112 centerness_loss: 0.7880048\n",
      "Batch: 619   Current total loss: 7.426059 focal_loss: 2.4479978 IOU_loss: 1.3934088 centerness_loss: 1.2534399\n"
     ]
    },
    {
     "name": "stdout",
     "output_type": "stream",
     "text": [
      "Batch: 620   Current total loss: 5.236087 focal_loss: 1.1672599 IOU_loss: 1.0169953 centerness_loss: 0.7206226\n",
      "Batch: 621   Current total loss: 5.0303707 focal_loss: 0.8717855 IOU_loss: 1.0886294 centerness_loss: 0.7387484\n",
      "Batch: 622   Current total loss: 7.632102 focal_loss: 2.4719381 IOU_loss: 1.5662559 centerness_loss: 1.2627028\n",
      "Batch: 623   Current total loss: 5.9462404 focal_loss: 1.3976294 IOU_loss: 1.3231164 centerness_loss: 0.89429146\n",
      "Batch: 624   Current total loss: 6.191327 focal_loss: 1.614565 IOU_loss: 1.2821594 centerness_loss: 0.963402\n",
      "Batch: 625   Current total loss: 5.5867896 focal_loss: 1.2777604 IOU_loss: 1.1617988 centerness_loss: 0.8160325\n",
      "Batch: 626   Current total loss: 5.4403105 focal_loss: 1.0739559 IOU_loss: 1.1909826 centerness_loss: 0.84417725\n",
      "Batch: 627   Current total loss: 6.6075144 focal_loss: 1.903417 IOU_loss: 1.3816527 centerness_loss: 0.9912519\n",
      "Batch: 628   Current total loss: 6.2314444 focal_loss: 1.709511 IOU_loss: 1.2478954 centerness_loss: 0.9428468\n",
      "Batch: 629   Current total loss: 5.689786 focal_loss: 1.4030833 IOU_loss: 1.119028 centerness_loss: 0.8364858\n",
      "Batch: 630   Current total loss: 5.815808 focal_loss: 1.4115652 IOU_loss: 1.2415636 centerness_loss: 0.83149326\n",
      "Batch: 631   Current total loss: 5.7611465 focal_loss: 1.2345141 IOU_loss: 1.3113608 centerness_loss: 0.8840885\n",
      "Batch: 632   Current total loss: 6.0552626 focal_loss: 1.5273387 IOU_loss: 1.2876586 centerness_loss: 0.9090847\n",
      "Batch: 633   Current total loss: 6.6771545 focal_loss: 1.9818472 IOU_loss: 1.2726437 centerness_loss: 1.0914856\n",
      "Batch: 634   Current total loss: 6.0016317 focal_loss: 1.5269895 IOU_loss: 1.261633 centerness_loss: 0.8818333\n",
      "Batch: 635   Current total loss: 4.9015203 focal_loss: 0.9161663 IOU_loss: 0.96497005 centerness_loss: 0.68921\n",
      "Batch: 636   Current total loss: 5.38134 focal_loss: 1.2027904 IOU_loss: 1.0954729 centerness_loss: 0.75190514\n",
      "Batch: 637   Current total loss: 4.9326134 focal_loss: 0.9125817 IOU_loss: 0.9610389 centerness_loss: 0.72782344\n",
      "Batch: 638   Current total loss: 5.444762 focal_loss: 1.1317123 IOU_loss: 1.1350284 centerness_loss: 0.8468549\n",
      "Batch: 639   Current total loss: 5.9904237 focal_loss: 1.5110787 IOU_loss: 1.2497703 centerness_loss: 0.89841056\n",
      "Batch: 640   Current total loss: 5.439142 focal_loss: 1.2747622 IOU_loss: 1.0749276 centerness_loss: 0.7582907\n",
      "Batch: 641   Current total loss: 5.2105823 focal_loss: 1.0195494 IOU_loss: 1.10819 centerness_loss: 0.7516834\n",
      "Batch: 642   Current total loss: 5.328034 focal_loss: 1.1252226 IOU_loss: 1.10408 centerness_loss: 0.76757425\n",
      "Batch: 643   Current total loss: 5.0816913 focal_loss: 1.061213 IOU_loss: 0.97097754 centerness_loss: 0.7183458\n",
      "Batch: 644   Current total loss: 5.050107 focal_loss: 1.077256 IOU_loss: 0.9105661 centerness_loss: 0.7311323\n",
      "Batch: 645   Current total loss: 6.0701427 focal_loss: 1.6464727 IOU_loss: 1.2057663 centerness_loss: 0.88675326\n",
      "Batch: 646   Current total loss: 5.733602 focal_loss: 1.4135983 IOU_loss: 1.1649479 centerness_loss: 0.8239082\n",
      "Batch: 647   Current total loss: 6.310877 focal_loss: 1.5951759 IOU_loss: 1.4164923 centerness_loss: 0.9680634\n",
      "Batch: 648   Current total loss: 6.1440587 focal_loss: 1.6331602 IOU_loss: 1.1698947 centerness_loss: 1.0098609\n",
      "Batch: 649   Current total loss: 5.753832 focal_loss: 1.4384791 IOU_loss: 1.1755607 centerness_loss: 0.8086514\n",
      "Batch: 650   Current total loss: 6.2967215 focal_loss: 1.6753349 IOU_loss: 1.2750611 centerness_loss: 1.0151875\n",
      "Batch: 651   Current total loss: 7.018794 focal_loss: 2.094551 IOU_loss: 1.5511298 centerness_loss: 1.0419772\n",
      "Batch: 652   Current total loss: 5.097879 focal_loss: 0.9895063 IOU_loss: 1.0491984 centerness_loss: 0.72804093\n",
      "Batch: 653   Current total loss: 6.200034 focal_loss: 1.7178392 IOU_loss: 1.2177037 centerness_loss: 0.9333596\n",
      "Batch: 654   Current total loss: 5.3250504 focal_loss: 1.1005206 IOU_loss: 1.1352174 centerness_loss: 0.75818366\n",
      "Batch: 655   Current total loss: 6.330949 focal_loss: 1.7965353 IOU_loss: 1.2658894 centerness_loss: 0.93739754\n",
      "Batch: 656   Current total loss: 6.883626 focal_loss: 1.9399292 IOU_loss: 1.4392272 centerness_loss: 1.1733451\n",
      "Batch: 657   Current total loss: 6.8631783 focal_loss: 2.122612 IOU_loss: 1.2442962 centerness_loss: 1.1651481\n",
      "Batch: 658   Current total loss: 6.1137304 focal_loss: 1.6704589 IOU_loss: 1.1787115 centerness_loss: 0.9334406\n",
      "Batch: 659   Current total loss: 6.357495 focal_loss: 1.65087 IOU_loss: 1.2766708 centerness_loss: 1.0988367\n",
      "Batch: 660   Current total loss: 5.932066 focal_loss: 1.5430692 IOU_loss: 1.2015522 centerness_loss: 0.8563303\n",
      "Batch: 661   Current total loss: 6.0218506 focal_loss: 1.5348444 IOU_loss: 1.3311759 centerness_loss: 0.8247184\n",
      "Batch: 662   Current total loss: 6.671027 focal_loss: 1.8651689 IOU_loss: 1.3736699 centerness_loss: 1.101079\n",
      "Batch: 663   Current total loss: 5.513197 focal_loss: 1.2505589 IOU_loss: 1.1520894 centerness_loss: 0.7794413\n",
      "Batch: 664   Current total loss: 7.0968223 focal_loss: 2.1509693 IOU_loss: 1.4424459 centerness_loss: 1.1723019\n",
      "Batch: 665   Current total loss: 5.5970798 focal_loss: 1.247261 IOU_loss: 1.1753299 centerness_loss: 0.8433858\n",
      "Batch: 666   Current total loss: 6.3107076 focal_loss: 1.7399275 IOU_loss: 1.251679 centerness_loss: 0.98800033\n",
      "Batch: 667   Current total loss: 5.2178783 focal_loss: 1.0589241 IOU_loss: 1.0840958 centerness_loss: 0.7437602\n",
      "Batch: 668   Current total loss: 7.7330313 focal_loss: 2.3932078 IOU_loss: 1.6168041 centerness_loss: 1.3919243\n",
      "Batch: 669   Current total loss: 5.2957535 focal_loss: 1.1690443 IOU_loss: 1.0273141 centerness_loss: 0.76830196\n",
      "Batch: 670   Current total loss: 6.226862 focal_loss: 1.6725018 IOU_loss: 1.3263812 centerness_loss: 0.8968877\n",
      "Batch: 671   Current total loss: 5.46966 focal_loss: 1.1944782 IOU_loss: 1.1313349 centerness_loss: 0.81275797\n",
      "Batch: 672   Current total loss: 6.4031878 focal_loss: 1.7610433 IOU_loss: 1.279904 centerness_loss: 1.031154\n",
      "Batch: 673   Current total loss: 6.4331083 focal_loss: 1.754714 IOU_loss: 1.3316183 centerness_loss: 1.0156926\n",
      "Batch: 674   Current total loss: 6.1413784 focal_loss: 1.7568592 IOU_loss: 1.1530184 centerness_loss: 0.90041906\n",
      "Batch: 675   Current total loss: 6.2780533 focal_loss: 1.7328473 IOU_loss: 1.2591286 centerness_loss: 0.95499784\n",
      "Batch: 676   Current total loss: 7.1278896 focal_loss: 2.076971 IOU_loss: 1.5608869 centerness_loss: 1.1589551\n",
      "Batch: 677   Current total loss: 5.4993353 focal_loss: 1.3043673 IOU_loss: 1.0163854 centerness_loss: 0.84750825\n",
      "Batch: 678   Current total loss: 5.314267 focal_loss: 1.169258 IOU_loss: 1.0869752 centerness_loss: 0.7269621\n",
      "Batch: 679   Current total loss: 6.2859516 focal_loss: 1.6852072 IOU_loss: 1.2259283 centerness_loss: 1.0437458\n",
      "Batch: 680   Current total loss: 5.2709384 focal_loss: 1.255006 IOU_loss: 0.93434644 centerness_loss: 0.7505183\n",
      "Batch: 681   Current total loss: 5.637758 focal_loss: 1.4007102 IOU_loss: 1.0745033 centerness_loss: 0.8314788\n",
      "Batch: 682   Current total loss: 7.3288164 focal_loss: 2.3898003 IOU_loss: 1.3996058 centerness_loss: 1.2083477\n",
      "Batch: 683   Current total loss: 5.0407248 focal_loss: 1.1030729 IOU_loss: 0.9567696 centerness_loss: 0.64982235\n",
      "Batch: 684   Current total loss: 5.582205 focal_loss: 1.3164316 IOU_loss: 1.1066649 centerness_loss: 0.82805026\n",
      "Batch: 685   Current total loss: 5.967262 focal_loss: 1.5627677 IOU_loss: 1.1621946 centerness_loss: 0.91124403\n",
      "Batch: 686   Current total loss: 6.601055 focal_loss: 1.7935371 IOU_loss: 1.3085536 centerness_loss: 1.1679106\n",
      "Batch: 687   Current total loss: 5.8061094 focal_loss: 1.4162916 IOU_loss: 1.1402378 centerness_loss: 0.9185288\n",
      "Batch: 688   Current total loss: 5.857196 focal_loss: 1.4058892 IOU_loss: 1.199745 centerness_loss: 0.9205131\n",
      "Batch: 689   Current total loss: 4.9151917 focal_loss: 1.0265121 IOU_loss: 0.88710016 centerness_loss: 0.67053264\n",
      "Batch: 690   Current total loss: 5.6846194 focal_loss: 1.3197929 IOU_loss: 1.0835726 centerness_loss: 0.95020986\n",
      "Batch: 691   Current total loss: 5.724612 focal_loss: 1.2455878 IOU_loss: 1.2711014 centerness_loss: 0.8768814\n",
      "Batch: 692   Current total loss: 5.595167 focal_loss: 1.3849926 IOU_loss: 1.0206411 centerness_loss: 0.8584942\n",
      "Batch: 693   Current total loss: 6.2820005 focal_loss: 1.766541 IOU_loss: 1.1885482 centerness_loss: 0.99587435\n"
     ]
    },
    {
     "name": "stdout",
     "output_type": "stream",
     "text": [
      "Batch: 694   Current total loss: 6.1763444 focal_loss: 1.568075 IOU_loss: 1.1968181 centerness_loss: 1.0804166\n",
      "Batch: 695   Current total loss: 5.065815 focal_loss: 1.0291382 IOU_loss: 1.0271809 centerness_loss: 0.6784632\n",
      "Batch: 696   Current total loss: 5.054107 focal_loss: 0.9327269 IOU_loss: 1.0671331 centerness_loss: 0.7232168\n",
      "Batch: 697   Current total loss: 5.928668 focal_loss: 1.451362 IOU_loss: 1.2255592 centerness_loss: 0.92071915\n",
      "Batch: 698   Current total loss: 5.8784533 focal_loss: 1.439219 IOU_loss: 1.2077359 centerness_loss: 0.90047294\n",
      "Batch: 699   Current total loss: 5.7500925 focal_loss: 1.4552975 IOU_loss: 1.1709067 centerness_loss: 0.7928657\n",
      "Batch: 700   Current total loss: 6.056573 focal_loss: 1.500618 IOU_loss: 1.3454126 centerness_loss: 0.8795219\n",
      "Model saved !!!\n",
      "Batch: 701   Current total loss: 5.7207646 focal_loss: 1.3052834 IOU_loss: 1.1985763 centerness_loss: 0.8858868\n",
      "Batch: 702   Current total loss: 6.2245636 focal_loss: 1.5824382 IOU_loss: 1.3553152 centerness_loss: 0.9557953\n",
      "Batch: 703   Current total loss: 5.8620577 focal_loss: 1.4881424 IOU_loss: 1.2136451 centerness_loss: 0.82925737\n",
      "Batch: 704   Current total loss: 4.7792025 focal_loss: 0.85458565 IOU_loss: 0.89995575 centerness_loss: 0.6936502\n",
      "Batch: 705   Current total loss: 5.150525 focal_loss: 1.1405644 IOU_loss: 0.9675213 centerness_loss: 0.7114309\n",
      "Batch: 706   Current total loss: 4.9810853 focal_loss: 1.0175755 IOU_loss: 0.9669345 centerness_loss: 0.6655693\n",
      "Batch: 707   Current total loss: 5.8100452 focal_loss: 1.5232807 IOU_loss: 1.0466694 centerness_loss: 0.90909195\n",
      "Batch: 708   Current total loss: 5.6424227 focal_loss: 1.3650316 IOU_loss: 1.1008167 centerness_loss: 0.8455734\n",
      "Batch: 709   Current total loss: 6.2667446 focal_loss: 1.653444 IOU_loss: 1.3122878 centerness_loss: 0.9700142\n",
      "Batch: 710   Current total loss: 5.982692 focal_loss: 1.6245697 IOU_loss: 1.1487681 centerness_loss: 0.87835723\n",
      "Batch: 711   Current total loss: 6.2158732 focal_loss: 1.7600752 IOU_loss: 1.1935807 centerness_loss: 0.9312234\n",
      "Batch: 712   Current total loss: 4.915745 focal_loss: 0.9718198 IOU_loss: 0.89908963 centerness_loss: 0.7138439\n",
      "Batch: 713   Current total loss: 4.93835 focal_loss: 0.94665384 IOU_loss: 0.94799215 centerness_loss: 0.71271515\n",
      "Batch: 714   Current total loss: 5.274686 focal_loss: 1.2013289 IOU_loss: 1.0066674 centerness_loss: 0.7357029\n",
      "Batch: 715   Current total loss: 5.814225 focal_loss: 1.4452124 IOU_loss: 1.2163328 centerness_loss: 0.82169527\n",
      "Batch: 716   Current total loss: 5.0484285 focal_loss: 0.9800896 IOU_loss: 0.9980542 centerness_loss: 0.73930275\n",
      "Batch: 717   Current total loss: 5.599304 focal_loss: 1.3411976 IOU_loss: 1.0890319 centerness_loss: 0.83809483\n",
      "Batch: 718   Current total loss: 4.7355833 focal_loss: 0.8388207 IOU_loss: 0.8806132 centerness_loss: 0.68517166\n",
      "Batch: 719   Current total loss: 5.572013 focal_loss: 1.2437333 IOU_loss: 1.1262817 centerness_loss: 0.87102324\n",
      "Batch: 720   Current total loss: 5.4179773 focal_loss: 1.1881989 IOU_loss: 1.135853 centerness_loss: 0.76295257\n",
      "Batch: 721   Current total loss: 6.989357 focal_loss: 2.148022 IOU_loss: 1.3899088 centerness_loss: 1.1204561\n",
      "Batch: 722   Current total loss: 5.8295503 focal_loss: 1.468816 IOU_loss: 1.1532636 centerness_loss: 0.87650275\n",
      "Batch: 723   Current total loss: 5.5327334 focal_loss: 1.1773034 IOU_loss: 1.1476636 centerness_loss: 0.8768007\n",
      "Batch: 724   Current total loss: 4.55828 focal_loss: 0.7539738 IOU_loss: 0.81275016 centerness_loss: 0.6605929\n",
      "Batch: 725   Current total loss: 6.846666 focal_loss: 2.0244846 IOU_loss: 1.2618495 centerness_loss: 1.2293712\n",
      "Batch: 726   Current total loss: 5.2842603 focal_loss: 1.3033594 IOU_loss: 0.93479997 centerness_loss: 0.7151424\n",
      "Batch: 727   Current total loss: 5.8283825 focal_loss: 1.41445 IOU_loss: 1.192006 centerness_loss: 0.8909705\n",
      "Batch: 728   Current total loss: 6.1017056 focal_loss: 1.5351675 IOU_loss: 1.2419671 centerness_loss: 0.9936172\n",
      "Batch: 729   Current total loss: 5.535015 focal_loss: 1.3445971 IOU_loss: 0.9838728 centerness_loss: 0.8755944\n",
      "Batch: 730   Current total loss: 5.735483 focal_loss: 1.437796 IOU_loss: 1.1086382 centerness_loss: 0.8581002\n",
      "Batch: 731   Current total loss: 5.631539 focal_loss: 1.3018869 IOU_loss: 1.093477 centerness_loss: 0.90522856\n",
      "Batch: 732   Current total loss: 5.323862 focal_loss: 1.2870889 IOU_loss: 0.9689918 centerness_loss: 0.7368377\n",
      "Batch: 733   Current total loss: 6.3059726 focal_loss: 1.6448568 IOU_loss: 1.3804313 centerness_loss: 0.94974285\n",
      "Batch: 734   Current total loss: 7.622818 focal_loss: 2.4230845 IOU_loss: 1.5174433 centerness_loss: 1.3513507\n",
      "Batch: 735   Current total loss: 5.6047387 focal_loss: 1.2270699 IOU_loss: 1.1961699 centerness_loss: 0.8505622\n",
      "Batch: 736   Current total loss: 5.202843 focal_loss: 1.1204643 IOU_loss: 1.0244175 centerness_loss: 0.7270271\n",
      "Batch: 737   Current total loss: 6.731654 focal_loss: 1.9636126 IOU_loss: 1.3256087 centerness_loss: 1.1115011\n",
      "Batch: 738   Current total loss: 4.8242245 focal_loss: 0.818568 IOU_loss: 0.97892946 centerness_loss: 0.695797\n",
      "Batch: 739   Current total loss: 4.728713 focal_loss: 0.7974361 IOU_loss: 0.90369356 centerness_loss: 0.69665617\n",
      "Batch: 740   Current total loss: 4.8932066 focal_loss: 0.9394052 IOU_loss: 0.90914273 centerness_loss: 0.7137332\n",
      "Batch: 741   Current total loss: 5.4954376 focal_loss: 1.2860065 IOU_loss: 1.0369551 centerness_loss: 0.8415534\n",
      "Batch: 742   Current total loss: 5.7485485 focal_loss: 1.5262669 IOU_loss: 1.0798736 centerness_loss: 0.8114875\n",
      "Batch: 743   Current total loss: 5.9426327 focal_loss: 1.5513558 IOU_loss: 1.1349522 centerness_loss: 0.92540723\n",
      "Batch: 744   Current total loss: 6.2332935 focal_loss: 1.6111397 IOU_loss: 1.2647351 centerness_loss: 1.0265037\n",
      "Batch: 745   Current total loss: 4.995264 focal_loss: 0.99489254 IOU_loss: 0.97760165 centerness_loss: 0.6918567\n",
      "Batch: 746   Current total loss: 5.233199 focal_loss: 1.069047 IOU_loss: 1.0249125 centerness_loss: 0.80832916\n",
      "Batch: 747   Current total loss: 6.5209684 focal_loss: 1.8224491 IOU_loss: 1.3023232 centerness_loss: 1.0652877\n",
      "Batch: 748   Current total loss: 4.9755726 focal_loss: 1.0221676 IOU_loss: 0.9263648 centerness_loss: 0.6961342\n",
      "Batch: 749   Current total loss: 6.0135155 focal_loss: 1.5057386 IOU_loss: 1.2585996 centerness_loss: 0.9182739\n",
      "Batch: 750   Current total loss: 5.828691 focal_loss: 1.3920063 IOU_loss: 1.1896553 centerness_loss: 0.91612786\n",
      "Batch: 751   Current total loss: 5.1149826 focal_loss: 1.0418413 IOU_loss: 1.0313003 centerness_loss: 0.71094304\n",
      "Batch: 752   Current total loss: 5.6344995 focal_loss: 1.3041933 IOU_loss: 1.1016412 centerness_loss: 0.89776903\n",
      "Batch: 753   Current total loss: 5.296377 focal_loss: 1.1657082 IOU_loss: 1.0407302 centerness_loss: 0.7590448\n",
      "Batch: 754   Current total loss: 5.2324266 focal_loss: 1.168127 IOU_loss: 0.992174 centerness_loss: 0.7412339\n",
      "Batch: 755   Current total loss: 5.5487766 focal_loss: 1.3053421 IOU_loss: 1.0256569 centerness_loss: 0.8868886\n",
      "Batch: 756   Current total loss: 5.8795614 focal_loss: 1.6001183 IOU_loss: 1.0323176 centerness_loss: 0.9162385\n",
      "Batch: 757   Current total loss: 5.9187794 focal_loss: 1.5207901 IOU_loss: 1.1835108 centerness_loss: 0.8835945\n",
      "Batch: 758   Current total loss: 5.9195137 focal_loss: 1.5068158 IOU_loss: 1.1543214 centerness_loss: 0.9274945\n",
      "Batch: 759   Current total loss: 4.8291707 focal_loss: 1.0118349 IOU_loss: 0.82571507 centerness_loss: 0.660741\n",
      "Batch: 760   Current total loss: 5.3073397 focal_loss: 1.1319497 IOU_loss: 1.0610129 centerness_loss: 0.7835\n",
      "Batch: 761   Current total loss: 5.4235926 focal_loss: 1.3268627 IOU_loss: 0.93313193 centerness_loss: 0.8327235\n",
      "Batch: 762   Current total loss: 4.9992557 focal_loss: 1.0275539 IOU_loss: 0.91201895 centerness_loss: 0.7288103\n",
      "Batch: 763   Current total loss: 4.9733295 focal_loss: 0.94848245 IOU_loss: 0.9448146 centerness_loss: 0.74916273\n",
      "Batch: 764   Current total loss: 5.110467 focal_loss: 1.0396234 IOU_loss: 0.97100496 centerness_loss: 0.768972\n",
      "Batch: 765   Current total loss: 5.8107433 focal_loss: 1.4399066 IOU_loss: 1.1811012 centerness_loss: 0.85887045\n",
      "Batch: 766   Current total loss: 6.5352664 focal_loss: 1.8940842 IOU_loss: 1.2178833 centerness_loss: 1.0924361\n"
     ]
    }
   ],
   "source": [
    "with tf.Session() as sess:\n",
    "    train_writer = tf.summary.FileWriter(FLAGS.log_dir,sess.graph)\n",
    "    #var_list = [var for var in tf.global_variables() if (\"Adam\" and 'AccumGrad') not in var.name]\n",
    "    var_list = tf.global_variables()\n",
    "#     var_list = [var for var in tf.global_variables() if \"moving\" in var.name]\n",
    "#     var_list += tf.trainable_variables()\n",
    "    saver = tf.train.Saver(var_list=var_list,max_to_keep=5)\n",
    "    sess.run(tf.global_variables_initializer())\n",
    "    ckpt = tf.train.latest_checkpoint(FLAGS.checkpoint_dir)\n",
    "    if ckpt:\n",
    "        saver.restore(sess,ckpt)\n",
    "        print('Restore from the checkpoint {0}'.format(ckpt))  \n",
    "    else:\n",
    "        print('Train ssd from start')\n",
    "        exclude = ['resnet_v2_50' + '/logits', 'global_step','output','output2',\"optimizer\",'postnorm']\n",
    "        variables_to_restore = tf.contrib.slim.get_variables_to_restore(exclude=exclude)\n",
    "        tf.train.init_from_checkpoint('./resnet_v2_50_2017_04_14/resnet_v2_50.ckpt',\n",
    "                                    {v.name.split(':')[0]: v for v in variables_to_restore})  \n",
    "    for i in range(start_step,10000000):\n",
    "        image_batch,annotation_batch,cls_batch = next(train_iter)\n",
    "        #one hot for cls_batch\n",
    "        eye = np.eye(20)\n",
    "        eye = np.concatenate([eye,np.expand_dims(np.zeros_like(eye[0]),axis=0)])\n",
    "        cls_batch = eye[(cls_batch-1).astype(np.int32)].astype(np.float32)\n",
    "        \n",
    "        matched_true_boxes,matched_true_classes,matched_true_centerness = encode_boxes(annotation_batch,cls_batch,feature_size,stride)\n",
    "        feature_state = np.squeeze(matched_true_centerness!=0,axis=-1)\n",
    "        \n",
    "        feed_dict={inputs:image_batch,boxes:matched_true_boxes,classes:matched_true_classes,centerness:matched_true_centerness,state:feature_state}\n",
    "\n",
    "    \n",
    "        [_,train_summary,temp_loss,temp_focal_loss,temp_iou_loss,temp_centerness_loss,temp_centerness_output,temp_classes_output,temp_boxes_output] = sess.run([train_opt,merged_summary_op,total_losses,focal_losses,IOU_losses,centerness_losses,centerness_output_test,classes_output_test,boxes_output_test],feed_dict=feed_dict)\n",
    "        real_step = (i-start_step)//5+start_step\n",
    "        if((i-start_step)%5==0):\n",
    "            print('Batch: '+str(real_step)+'   Current total loss: '+str(temp_loss)+' focal_loss: '+str(temp_focal_loss)+' IOU_loss: '+str(temp_iou_loss)+' centerness_loss: '+str(temp_centerness_loss))\n",
    "#             break\n",
    "            train_writer.add_summary(train_summary, real_step)\n",
    "#             break\n",
    "        if((i-start_step)%500==0 and i!=0):\n",
    "#             save model for training\n",
    "            saver.save(sess,os.path.join(FLAGS.checkpoint_dir,'FCOS-'),global_step=real_step) \n",
    "            #########################save model for inference#############################################\n",
    "#             constant_graph = convert_variables_to_constants(sess, sess.graph_def, ['boxes','scores','classes'])\n",
    "#             with tf.gfile.FastGFile('./model.pb', mode='wb') as f:\n",
    "#                 f.write(constant_graph.SerializeToString())\n",
    "            #####################################################################\n",
    "            print('Model saved !!!')"
   ]
  },
  {
   "cell_type": "code",
   "execution_count": null,
   "metadata": {},
   "outputs": [],
   "source": [
    "\n",
    "# learning_rate = 1e-2\n",
    "# Si = tf.Variable(tf.constant(1.0,shape=[5,1],dtype=tf.float32), trainable=True)"
   ]
  },
  {
   "cell_type": "code",
   "execution_count": null,
   "metadata": {},
   "outputs": [],
   "source": [
    "# matched_true_boxes,matched_true_classes,matched_true_centerness = encode_boxes(annotation_batch,cls_batch,feature_size,stride)"
   ]
  },
  {
   "cell_type": "code",
   "execution_count": null,
   "metadata": {},
   "outputs": [],
   "source": []
  },
  {
   "cell_type": "code",
   "execution_count": null,
   "metadata": {},
   "outputs": [],
   "source": [
    "def iou_loss(y_true, y_pred,location_state,centerness):\n",
    "    with tf.variable_scope(\"loss/iou\") as scope:\n",
    "        # pos location\n",
    "        indices = tf.where(tf.equal(location_state, 1))\n",
    "    #     print(indices.shape)\n",
    "        if tf.size(indices) == 0:\n",
    "            return tf.constant(0.0)\n",
    "        y_regr_pred = tf.gather_nd(y_pred, indices)\n",
    "    #     print(y_regr_pred.shape)\n",
    "        y_regr_true = tf.gather_nd(y_true, indices)\n",
    "        y_centerness_true = tf.gather_nd(centerness,indices)\n",
    "\n",
    "        # (num_pos, )\n",
    "        pred_top = y_regr_pred[:, 0]\n",
    "        pred_bottom = y_regr_pred[:, 1]\n",
    "        pred_left = y_regr_pred[:, 2]\n",
    "        pred_right = y_regr_pred[:, 3]\n",
    "\n",
    "        # (num_pos, )\n",
    "        target_top = y_regr_true[:, 0]\n",
    "        target_bottom = y_regr_true[:, 1]\n",
    "        target_left = y_regr_true[:, 2]\n",
    "        target_right = y_regr_true[:, 3]\n",
    "\n",
    "        target_area = (target_left + target_right) * (target_top + target_bottom)\n",
    "        pred_area = (pred_left + pred_right) * (pred_top + pred_bottom)\n",
    "        w_intersect = tf.minimum(pred_left, target_left) + tf.minimum(pred_right, target_right)\n",
    "        h_intersect = tf.minimum(pred_bottom, target_bottom) + tf.minimum(pred_top, target_top)\n",
    "\n",
    "        g_w_intersect = tf.maximum(pred_left, target_left) + tf.maximum(pred_right, target_right)\n",
    "        g_h_intersect = tf.maximum(pred_bottom, target_bottom) + tf.maximum(pred_top, target_top)\n",
    "        ac_union = g_w_intersect * g_h_intersect\n",
    "        \n",
    "        area_intersect = w_intersect * h_intersect\n",
    "        area_union = target_area + pred_area - area_intersect\n",
    "        ious = (area_intersect) / (area_union+1e-8)\n",
    "        gious = 1-ious+((ac_union-area_union)/(ac_union+1e-8))\n",
    "        # (num_pos, )\n",
    "        #losses = tf.reduce_sum(losses * y_centerness_true) / (tf.reduce_sum(y_centerness_true) + 1e-6)\n",
    "\n",
    "        losses =  tf.reduce_mean(gious)\n",
    "    return losses"
   ]
  },
  {
   "cell_type": "code",
   "execution_count": null,
   "metadata": {},
   "outputs": [],
   "source": [
    "# image_batch,annotation_batch,cls_batch = next(train_iter)\n",
    "# #one hot for cls_batch\n",
    "# eye = np.eye(20)\n",
    "# eye = np.concatenate([eye,np.expand_dims(np.zeros_like(eye[0]),axis=0)])\n",
    "# cls_batch = eye[(cls_batch-1).astype(np.int32)]\n",
    "\n",
    "# matched_true_boxes,matched_true_classes,matched_true_centerness = encode_boxes(annotation_batch,cls_batch,feature_size,stride)\n",
    "# feature_state = []\n",
    "# for m_t_ctn in matched_true_centerness:\n",
    "#     feature_state.append((m_t_ctn!=0).astype(np.float32))"
   ]
  },
  {
   "cell_type": "code",
   "execution_count": null,
   "metadata": {},
   "outputs": [],
   "source": [
    "# np.sum((matched_true_boxes[1]<0).astype(np.float32))"
   ]
  },
  {
   "cell_type": "code",
   "execution_count": null,
   "metadata": {},
   "outputs": [],
   "source": [
    "# t= encode_boxes(annotation_batch,cls_batch,feature_size,stride)"
   ]
  },
  {
   "cell_type": "code",
   "execution_count": null,
   "metadata": {},
   "outputs": [],
   "source": [
    "# for i in range(FLAGS.batch_size):\n",
    "#     plt.hlines(annotation_batch[i,:,0]*800,annotation_batch[i,:,1]*1024,annotation_batch[i,:,3]*1024,'r')\n",
    "#     plt.hlines(annotation_batch[i,:,2]*800,annotation_batch[i,:,1]*1024,annotation_batch[i,:,3]*1024,'r')\n",
    "#     plt.vlines(annotation_batch[i,:,1]*1024,annotation_batch[i,:,0]*800,annotation_batch[i,:,2]*800,'r')\n",
    "#     plt.vlines(annotation_batch[i,:,3]*1024,annotation_batch[i,:,0]*800,annotation_batch[i,:,2]*800,'r')\n",
    "#     plt.imshow(image_batch[i])\n",
    "#     plt.show()"
   ]
  },
  {
   "cell_type": "code",
   "execution_count": null,
   "metadata": {},
   "outputs": [],
   "source": [
    "# annotation_batch[0]*1024"
   ]
  },
  {
   "cell_type": "code",
   "execution_count": null,
   "metadata": {},
   "outputs": [],
   "source": [
    "# matched_true_boxes.shape"
   ]
  },
  {
   "cell_type": "code",
   "execution_count": null,
   "metadata": {},
   "outputs": [],
   "source": [
    "# for image_index in range(FLAGS.batch_size):\n",
    "#     for layer_index in range(5):\n",
    "#         true_boxes = matched_true_boxes[layer_index][image_index]\n",
    "#         true_classes = matched_true_classes[layer_index][image_index]\n",
    "#         true_boxes = true_boxes.reshape(feature_size[layer_index][0],feature_size[layer_index][1],4)\n",
    "#         true_classes = true_classes.reshape(feature_size[layer_index][0],feature_size[layer_index][1],20)\n",
    "#         print(np.sum(true_boxes!=0))\n",
    "#         print(true_boxes.shape)\n",
    "#         for i in range(feature_size[layer_index][0]):\n",
    "#             for j in range(feature_size[layer_index][1]):\n",
    "#                 y_center= (i+0.5)\n",
    "#                 x_center= (j+0.5)\n",
    "#                 if(np.sum(true_boxes[i,j]!=0)!=0):\n",
    "#                     xmin = (x_center-(true_boxes[i,j,2]*true_boxes.shape[1]))*stride[layer_index]\n",
    "#                     xmax = ((true_boxes[i,j,3]*true_boxes.shape[1])+x_center)*stride[layer_index]\n",
    "#                     ymin = (y_center-(true_boxes[i,j,0]*true_boxes.shape[0]))*stride[layer_index]\n",
    "#                     ymax = ((true_boxes[i,j,1]*true_boxes.shape[0])+y_center)*stride[layer_index]\n",
    "#         #             if((xmin>=0)and(ymin>0)and(xmax>0)and(ymax>0)):\n",
    "#                     plt.hlines(ymin,xmin,xmax,'r')\n",
    "#                     plt.hlines(ymax,xmin,xmax,'r')\n",
    "#                     plt.vlines(xmin,ymin,ymax,'r')\n",
    "#                     plt.vlines(xmax,ymin,ymax,'r')\n",
    "#                     print(ymin,xmin,ymax,xmax)\n",
    "#                     print(true_classes[i,j])\n",
    "#                     plt.imshow(image_batch[image_index])\n",
    "#                     plt.show()"
   ]
  },
  {
   "cell_type": "code",
   "execution_count": null,
   "metadata": {},
   "outputs": [],
   "source": []
  },
  {
   "cell_type": "code",
   "execution_count": null,
   "metadata": {},
   "outputs": [],
   "source": [
    "# for i in range(5):\n",
    "#     t,b,l,r = np.split(matched_true_boxes[i],indices_or_sections=4,axis=-1)\n",
    "#     area = (t+b)*(l+r)\n",
    "#     print(np.sum(area>1))"
   ]
  },
  {
   "cell_type": "code",
   "execution_count": null,
   "metadata": {},
   "outputs": [],
   "source": [
    "# np.sum(matched_true_boxes[3]>0)"
   ]
  },
  {
   "cell_type": "code",
   "execution_count": null,
   "metadata": {},
   "outputs": [],
   "source": []
  },
  {
   "cell_type": "code",
   "execution_count": null,
   "metadata": {},
   "outputs": [],
   "source": [
    "# pyramid_dict = resnet_base(inputs,'resnet_v1_50',is_training = True)\n"
   ]
  },
  {
   "cell_type": "code",
   "execution_count": null,
   "metadata": {},
   "outputs": [],
   "source": []
  },
  {
   "cell_type": "code",
   "execution_count": null,
   "metadata": {},
   "outputs": [],
   "source": []
  },
  {
   "cell_type": "code",
   "execution_count": null,
   "metadata": {},
   "outputs": [],
   "source": []
  },
  {
   "cell_type": "code",
   "execution_count": null,
   "metadata": {},
   "outputs": [],
   "source": [
    "plt.imshow(image_batch[0])"
   ]
  },
  {
   "cell_type": "code",
   "execution_count": null,
   "metadata": {
    "scrolled": true
   },
   "outputs": [],
   "source": [
    "# config = tf.ConfigProto(allow_soft_placement=True)\n",
    "# gpu_options = tf.GPUOptions(per_process_gpu_memory_fraction=0.9)\n",
    "# config.gpu_options.allow_growth = True\n"
   ]
  },
  {
   "cell_type": "code",
   "execution_count": null,
   "metadata": {},
   "outputs": [],
   "source": [
    "temp_centerness_output = temp_centerness_output.reshape(-1,1)\n",
    "temp_classes_output = temp_classes_output.reshape(-1,20)\n",
    "temp_boxes_output = temp_boxes_output.reshape(-1,4)"
   ]
  },
  {
   "cell_type": "code",
   "execution_count": null,
   "metadata": {},
   "outputs": [],
   "source": [
    "mask = (temp_classes_output *temp_centerness_output)>0.5"
   ]
  },
  {
   "cell_type": "code",
   "execution_count": null,
   "metadata": {},
   "outputs": [],
   "source": [
    "temp_boxes_output[mask[:,3]]"
   ]
  },
  {
   "cell_type": "code",
   "execution_count": null,
   "metadata": {},
   "outputs": [],
   "source": [
    "temp_classes_output[mask[:,0]]"
   ]
  },
  {
   "cell_type": "code",
   "execution_count": null,
   "metadata": {},
   "outputs": [],
   "source": [
    "center_list = []\n",
    "for i in range(5):\n",
    "    offset = np.math.floor(stride[i]/2)\n",
    "    y_center_mapping = np.array([(j*stride[i]+offset) for j in range(feature_size[i][0])])/FLAGS.image_height\n",
    "    x_center_mapping = np.array([(j*stride[i]+offset) for j in range(feature_size[i][1])])/FLAGS.image_width\n",
    "    y_center_mapping = np.expand_dims(np.tile(np.expand_dims(y_center_mapping,axis=-1),[1,feature_size[i][1]]),axis=-1)\n",
    "    x_center_mapping = np.expand_dims(np.tile(np.expand_dims(x_center_mapping,axis=0),[feature_size[i][0],1]),axis=-1)\n",
    "    center = np.concatenate([y_center_mapping,x_center_mapping],axis=-1).reshape(FLAGS.batch_size,(feature_size[i][0]*feature_size[i][1]),2)\n",
    "    center_list.append(center)"
   ]
  },
  {
   "cell_type": "code",
   "execution_count": null,
   "metadata": {},
   "outputs": [],
   "source": [
    "center_list = np.squeeze((np.concatenate(center_list,axis=1)))"
   ]
  },
  {
   "cell_type": "code",
   "execution_count": null,
   "metadata": {},
   "outputs": [],
   "source": [
    "(center_list).shape"
   ]
  },
  {
   "cell_type": "code",
   "execution_count": null,
   "metadata": {},
   "outputs": [],
   "source": [
    "selected_center_list = np.squeeze(center_list)[mask[:,18]]"
   ]
  },
  {
   "cell_type": "code",
   "execution_count": null,
   "metadata": {},
   "outputs": [],
   "source": [
    "ymin = (selected_center_list[:,0]-(temp_boxes_output[mask[:,18]])[:,0])*800\n",
    "ymax = (selected_center_list[:,0]+(temp_boxes_output[mask[:,18]])[:,0])*800\n",
    "xmin = (selected_center_list[:,1]-(temp_boxes_output[mask[:,18]])[:,1])*1024\n",
    "xmax = (selected_center_list[:,1]+(temp_boxes_output[mask[:,18]])[:,1])*1024"
   ]
  },
  {
   "cell_type": "code",
   "execution_count": null,
   "metadata": {},
   "outputs": [],
   "source": [
    "(temp_boxes_output[mask[:,18]]).shape"
   ]
  },
  {
   "cell_type": "code",
   "execution_count": null,
   "metadata": {},
   "outputs": [],
   "source": [
    "# plt.hlines(ymin,xmin,xmax,'r')\n",
    "# plt.hlines(ymax,xmin,xmax,'r')\n",
    "# plt.vlines(xmin,ymin,ymax,'r')\n",
    "# plt.vlines(xmax,ymin,ymax,'r')\n",
    "plt.imshow(image_batch[0])\n",
    "plt.show()"
   ]
  },
  {
   "cell_type": "code",
   "execution_count": null,
   "metadata": {},
   "outputs": [],
   "source": [
    "temp_boxes_output[mask[:,18]]"
   ]
  },
  {
   "cell_type": "code",
   "execution_count": null,
   "metadata": {},
   "outputs": [],
   "source": [
    "np.squeeze(matched_true_boxes)[mask[:,18]]"
   ]
  },
  {
   "cell_type": "code",
   "execution_count": null,
   "metadata": {},
   "outputs": [],
   "source": [
    "t,b,l,r = np.split(boxes_3,indices_or_sections=4,axis=3)"
   ]
  },
  {
   "cell_type": "code",
   "execution_count": null,
   "metadata": {},
   "outputs": [],
   "source": [
    "image_batch[0].shape"
   ]
  },
  {
   "cell_type": "code",
   "execution_count": null,
   "metadata": {},
   "outputs": [],
   "source": [
    "plt.imshow(image_batch[0])"
   ]
  },
  {
   "cell_type": "code",
   "execution_count": null,
   "metadata": {},
   "outputs": [],
   "source": [
    "boxes_3[0].shape"
   ]
  },
  {
   "cell_type": "code",
   "execution_count": null,
   "metadata": {},
   "outputs": [],
   "source": [
    "tblr"
   ]
  },
  {
   "cell_type": "code",
   "execution_count": null,
   "metadata": {},
   "outputs": [],
   "source": [
    "temp_classes_output = np.concatenate(temp_classes_output,axis=1).reshape(-1,20)\n",
    "temp_centerness_output = np.concatenate(temp_centerness_output,axis=1).reshape(-1,1)\n",
    "temp_boxes_output = np.concatenate(temp_boxes_output,axis=1).reshape(-1,4)"
   ]
  },
  {
   "cell_type": "code",
   "execution_count": null,
   "metadata": {},
   "outputs": [],
   "source": [
    "mask = ((temp_classes_output*temp_centerness_output)>0.5)"
   ]
  },
  {
   "cell_type": "code",
   "execution_count": null,
   "metadata": {},
   "outputs": [],
   "source": [
    "temp_boxes_output[mask[:,18]]"
   ]
  },
  {
   "cell_type": "code",
   "execution_count": null,
   "metadata": {},
   "outputs": [],
   "source": []
  }
 ],
 "metadata": {
  "kernelspec": {
   "display_name": "Python 3",
   "language": "python",
   "name": "python3"
  },
  "language_info": {
   "codemirror_mode": {
    "name": "ipython",
    "version": 3
   },
   "file_extension": ".py",
   "mimetype": "text/x-python",
   "name": "python",
   "nbconvert_exporter": "python",
   "pygments_lexer": "ipython3",
   "version": "3.7.3"
  }
 },
 "nbformat": 4,
 "nbformat_minor": 2
}
